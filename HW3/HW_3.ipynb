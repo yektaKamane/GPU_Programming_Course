{
  "nbformat": 4,
  "nbformat_minor": 0,
  "metadata": {
    "colab": {
      "name": "Copy of TensorFlow with GPU",
      "provenance": [],
      "collapsed_sections": [],
      "toc_visible": true,
      "include_colab_link": true
    },
    "kernelspec": {
      "display_name": "Python 3",
      "name": "python3"
    },
    "accelerator": "GPU"
  },
  "cells": [
    {
      "cell_type": "markdown",
      "metadata": {
        "id": "view-in-github",
        "colab_type": "text"
      },
      "source": [
        "<a href=\"https://colab.research.google.com/github/yektaKamane/GPU_Programming_Course/blob/main/HW3/HW_3.ipynb\" target=\"_parent\"><img src=\"https://colab.research.google.com/assets/colab-badge.svg\" alt=\"Open In Colab\"/></a>"
      ]
    },
    {
      "cell_type": "markdown",
      "metadata": {
        "id": "m30VIx4QD9r0"
      },
      "source": [
        "# HW3 - class\n",
        "trying to run the assignment files here in colab"
      ]
    },
    {
      "cell_type": "code",
      "metadata": {
        "colab": {
          "base_uri": "https://localhost:8080/"
        },
        "id": "RpSQ3Cp3ELeY",
        "outputId": "b9ebb992-01a6-4c38-91e9-6d0dd0e0818d"
      },
      "source": [
        "! ls\n",
        "! nvcc --version\n",
        "! nvcc -o add-vectors add-vectors.cu"
      ],
      "execution_count": null,
      "outputs": [
        {
          "output_type": "stream",
          "name": "stdout",
          "text": [
            "add-vectors\tcuda-repo-ubuntu1604-9-2-local_9.2.88-1_amd64.deb  src\n",
            "add-vectors.cu\tsample_data\n",
            "nvcc: NVIDIA (R) Cuda compiler driver\n",
            "Copyright (c) 2005-2018 NVIDIA Corporation\n",
            "Built on Wed_Apr_11_23:16:29_CDT_2018\n",
            "Cuda compilation tools, release 9.2, V9.2.88\n"
          ]
        }
      ]
    },
    {
      "cell_type": "code",
      "metadata": {
        "colab": {
          "base_uri": "https://localhost:8080/"
        },
        "id": "dgYzUFmjovQ0",
        "outputId": "7818c1e3-0196-4b5b-df2b-65c3202d3155"
      },
      "source": [
        "! ./add-vectors 5"
      ],
      "execution_count": null,
      "outputs": [
        {
          "output_type": "stream",
          "name": "stdout",
          "text": [
            "    0.00 +     0.00 =     0.00\n",
            "    1.00 +   100.00 =   101.00\n",
            "    2.00 +   200.00 =   202.00\n",
            "    3.00 +   300.00 =   303.00\n",
            "    4.00 +   400.00 =   404.00\n"
          ]
        }
      ]
    },
    {
      "cell_type": "code",
      "metadata": {
        "colab": {
          "base_uri": "https://localhost:8080/"
        },
        "id": "1UM8eKraovfs",
        "outputId": "30ebce3d-8a4e-4d09-d0c0-d7cd6e7f938e"
      },
      "source": [
        "! ./add-vectors 50"
      ],
      "execution_count": null,
      "outputs": [
        {
          "output_type": "stream",
          "name": "stdout",
          "text": [
            "    0.00 +     0.00 =     0.00\n",
            "    1.00 +   100.00 =   101.00\n",
            "    2.00 +   200.00 =   202.00\n",
            "    3.00 +   300.00 =   303.00\n",
            "    4.00 +   400.00 =   404.00\n",
            "    5.00 +   500.00 =   505.00\n",
            "    6.00 +   600.00 =   606.00\n",
            "    7.00 +   700.00 =   707.00\n",
            "    8.00 +   800.00 =   808.00\n",
            "    9.00 +   900.00 =   909.00\n",
            "   10.00 +  1000.00 =  1010.00\n",
            "   11.00 +  1100.00 =  1111.00\n",
            "   12.00 +  1200.00 =  1212.00\n",
            "   13.00 +  1300.00 =  1313.00\n",
            "   14.00 +  1400.00 =  1414.00\n",
            "   15.00 +  1500.00 =  1515.00\n",
            "   16.00 +  1600.00 =  1616.00\n",
            "   17.00 +  1700.00 =  1717.00\n",
            "   18.00 +  1800.00 =  1818.00\n",
            "   19.00 +  1900.00 =  1919.00\n",
            "   20.00 +  2000.00 =  2020.00\n",
            "   21.00 +  2100.00 =  2121.00\n",
            "   22.00 +  2200.00 =  2222.00\n",
            "   23.00 +  2300.00 =  2323.00\n",
            "   24.00 +  2400.00 =  2424.00\n",
            "   25.00 +  2500.00 =  2525.00\n",
            "   26.00 +  2600.00 =  2626.00\n",
            "   27.00 +  2700.00 =  2727.00\n",
            "   28.00 +  2800.00 =  2828.00\n",
            "   29.00 +  2900.00 =  2929.00\n",
            "   30.00 +  3000.00 =  3030.00\n",
            "   31.00 +  3100.00 =  3131.00\n",
            "   32.00 +  3200.00 =  3232.00\n",
            "   33.00 +  3300.00 =  3333.00\n",
            "   34.00 +  3400.00 =  3434.00\n",
            "   35.00 +  3500.00 =  3535.00\n",
            "   36.00 +  3600.00 =  3636.00\n",
            "   37.00 +  3700.00 =  3737.00\n",
            "   38.00 +  3800.00 =  3838.00\n",
            "   39.00 +  3900.00 =  3939.00\n",
            "   40.00 +  4000.00 =  4040.00\n",
            "   41.00 +  4100.00 =  4141.00\n",
            "   42.00 +  4200.00 =  4242.00\n",
            "   43.00 +  4300.00 =  4343.00\n",
            "   44.00 +  4400.00 =  4444.00\n",
            "   45.00 +  4500.00 =  4545.00\n",
            "   46.00 +  4600.00 =  4646.00\n",
            "   47.00 +  4700.00 =  4747.00\n",
            "   48.00 +  4800.00 =  4848.00\n",
            "   49.00 +  4900.00 =  4949.00\n"
          ]
        }
      ]
    },
    {
      "cell_type": "code",
      "metadata": {
        "id": "MAgOhSaBovtF"
      },
      "source": [
        "! ./add-vectors 10000\n",
        "! ./add-vectors 10000000"
      ],
      "execution_count": null,
      "outputs": []
    },
    {
      "cell_type": "code",
      "metadata": {
        "colab": {
          "base_uri": "https://localhost:8080/"
        },
        "id": "-ejsTRHqGZ3N",
        "outputId": "3aff37d6-5806-4006-f429-118d886e0b34"
      },
      "source": [
        "! nvprof ./add-vectors 1000"
      ],
      "execution_count": null,
      "outputs": [
        {
          "output_type": "stream",
          "name": "stdout",
          "text": [
            "==17510== NVPROF is profiling process 17510, command: ./add-vectors 1000\n",
            "==17510== Profiling application: ./add-vectors 1000\n",
            "==17510== Profiling result:\n",
            "            Type  Time(%)      Time     Calls       Avg       Min       Max  Name\n",
            " GPU activities:   47.44%  5.3430us         2  2.6710us  2.4310us  2.9120us  [CUDA memcpy HtoD]\n",
            "                   26.71%  3.0080us         1  3.0080us  3.0080us  3.0080us  add_vectors(float*, float*, float*, int)\n",
            "                   25.85%  2.9120us         1  2.9120us  2.9120us  2.9120us  [CUDA memcpy DtoH]\n",
            "      API calls:   99.50%  208.06ms         3  69.353ms  2.6950us  208.05ms  cudaMalloc\n",
            "                    0.21%  446.56us         1  446.56us  446.56us  446.56us  cuDeviceTotalMem\n",
            "                    0.11%  226.01us        96  2.3540us     142ns  127.76us  cuDeviceGetAttribute\n",
            "                    0.07%  154.88us         1  154.88us  154.88us  154.88us  cudaLaunchKernel\n",
            "                    0.06%  132.37us         3  44.123us  3.1560us  120.20us  cudaFree\n",
            "                    0.03%  58.415us         3  19.471us  13.596us  26.814us  cudaMemcpy\n",
            "                    0.01%  25.819us         1  25.819us  25.819us  25.819us  cuDeviceGetName\n",
            "                    0.00%  6.8870us         1  6.8870us  6.8870us  6.8870us  cuDeviceGetPCIBusId\n",
            "                    0.00%  2.0750us         3     691ns     151ns     969ns  cuDeviceGetCount\n",
            "                    0.00%  1.9180us         2     959ns     474ns  1.4440us  cuDeviceGet\n"
          ]
        }
      ]
    },
    {
      "cell_type": "code",
      "metadata": {
        "colab": {
          "base_uri": "https://localhost:8080/"
        },
        "id": "FcS933lWpU64",
        "outputId": "d9404030-f1b9-4802-d2e1-275c72500601"
      },
      "source": [
        "! nvprof ./add-vectors 100000000"
      ],
      "execution_count": null,
      "outputs": [
        {
          "output_type": "stream",
          "name": "stdout",
          "text": [
            "==17540== NVPROF is profiling process 17540, command: ./add-vectors 100000000\n",
            "==17540== Profiling application: ./add-vectors 100000000\n",
            "==17540== Profiling result:\n",
            "            Type  Time(%)      Time     Calls       Avg       Min       Max  Name\n",
            " GPU activities:   65.14%  278.42ms         1  278.42ms  278.42ms  278.42ms  [CUDA memcpy DtoH]\n",
            "                   25.94%  110.87ms         2  55.437ms  55.003ms  55.870ms  [CUDA memcpy HtoD]\n",
            "                    8.92%  38.135ms         1  38.135ms  38.135ms  38.135ms  add_vectors(float*, float*, float*, int)\n",
            "      API calls:   57.82%  428.48ms         3  142.83ms  55.065ms  317.42ms  cudaMemcpy\n",
            "                   28.15%  208.61ms         3  69.537ms  702.62us  207.16ms  cudaMalloc\n",
            "                   13.89%  102.97ms         3  34.322ms  579.87us  51.487ms  cudaFree\n",
            "                    0.06%  469.26us         1  469.26us  469.26us  469.26us  cuDeviceTotalMem\n",
            "                    0.04%  315.76us         1  315.76us  315.76us  315.76us  cudaLaunchKernel\n",
            "                    0.03%  219.83us        96  2.2890us     144ns  109.25us  cuDeviceGetAttribute\n",
            "                    0.00%  29.082us         1  29.082us  29.082us  29.082us  cuDeviceGetName\n",
            "                    0.00%  5.0470us         1  5.0470us  5.0470us  5.0470us  cuDeviceGetPCIBusId\n",
            "                    0.00%  2.1910us         3     730ns     194ns  1.1080us  cuDeviceGetCount\n",
            "                    0.00%  1.7130us         2     856ns     345ns  1.3680us  cuDeviceGet\n"
          ]
        }
      ]
    },
    {
      "cell_type": "code",
      "metadata": {
        "colab": {
          "base_uri": "https://localhost:8080/"
        },
        "id": "tD-1yM0XqdA9",
        "outputId": "4f1c4df8-448c-4732-d3aa-2f1de8ffaa38"
      },
      "source": [
        "%%cu\n",
        "#include <stdio.h>\n",
        "#include <cuda.h>\n",
        "\n",
        "__global__ void add_matrices(\n",
        "    float *c,      // out - pointer to result matrix c\n",
        "    float *a,      // in  - pointer to summand matrix a\n",
        "    float *b,      // in  - pointer to summand matrix b\n",
        "    int m,         // in  - matrix length\n",
        "    int n          // in  - matrix lenght\n",
        "    )\n",
        "{\n",
        "\t// To DO: Device a row major indexing\n",
        "\tint rowID = threadIdx.y + blockIdx.y * blockDim.y; \t// Row address\n",
        "\tint colID = threadIdx.x + blockIdx.x * blockDim.x;\t// Column Address\n",
        "\tint elemID;\t\t\t\t\t\t\t\t\t\t\t                    // Element address\n",
        "\n",
        "    // a_ij = a[i][j], where a is in row major order\n",
        "\tif(rowID < m && colID < n){\n",
        "\t\telemID = colID + rowID * n; \t\t\t\t\n",
        "\t\tc[elemID] = a[elemID] + b[elemID];\n",
        "\t}\n",
        "}\n",
        "\n",
        "int main( int argc, char* argv[] ){\n",
        "    // determine matrix length\n",
        "    int n = 10;      // set default length\n",
        "    int m = 10;\n",
        "\n",
        "    if ( argc > 1 ){\n",
        "        n = atoi( argv[1] );  // override default length\n",
        "        if ( n <= 0 ){\n",
        "            fprintf( stderr, \"Matrix length must be positive\\n\" );\n",
        "            return EXIT_FAILURE;\n",
        "        }\n",
        "        if (argc > 2){\n",
        "            m = atoi( argv[2] );\n",
        "            if (m <= 0 ){\n",
        "               fprintf( stderr, \"Matrix length must be positive\\n\" );\n",
        "               return EXIT_FAILURE;\n",
        "            }\n",
        "        }\n",
        "    }\n",
        "\n",
        "    // determine matrix size in bytes\n",
        "    const size_t matrix_size = (n * m) * sizeof( float );\n",
        "\n",
        "    // declare pointers to matrices in host memory and allocate memory\n",
        "    float *a, *b, *c;\n",
        "    a = (float*) malloc( matrix_size );\n",
        "    b = (float*) malloc( matrix_size );\n",
        "    c = (float*) malloc( matrix_size );\n",
        "\n",
        "    // declare pointers to matrices in device memory and allocate memory\n",
        "    float *a_d, *b_d, *c_d;\n",
        "    cudaMalloc( (void**) &a_d, matrix_size );\n",
        "    cudaMalloc( (void**) &b_d, matrix_size );\n",
        "    cudaMalloc( (void**) &c_d, matrix_size );\n",
        "\n",
        "    // initialize matrices and copy them to device\n",
        "    for ( int i = 0; i < n*m; i++ )\n",
        "    {\n",
        "        a[i] =   1.0 * i;\n",
        "        b[i] = 100.0 * i;        \n",
        "    }\n",
        "    cudaMemcpy( a_d, a, matrix_size, cudaMemcpyHostToDevice );\n",
        "    cudaMemcpy( b_d, b, matrix_size, cudaMemcpyHostToDevice );\n",
        "\n",
        "    // do calculation on device\n",
        "    dim3 block_size( 16, 16 );\n",
        "    dim3 num_blocks( ( n - 1 + block_size.x ) / block_size.x, ( m - 1 + block_size.y ) / block_size.y );\n",
        "                   \n",
        "    add_matrices<<< num_blocks, block_size >>>( c_d, a_d, b_d, m, n );\n",
        "\n",
        "    // retrieve result from device and store on host\n",
        "    cudaMemcpy( c, c_d, matrix_size, cudaMemcpyDeviceToHost );\n",
        "\n",
        "    // print results for vectors up to length 100\n",
        "    if ( n <= 100 && m <= 100)\n",
        "    {\n",
        "        for ( int i = 0; i < m; i++ )\n",
        "        {\n",
        "            for (int j = 0; j < n; j++)\n",
        "            {\n",
        "                printf(\"%4.0f \", a[i*n + j]);\n",
        "            }\n",
        "            printf(\"  \");\n",
        "            for (int j = 0; j < n; j++)\n",
        "            {\n",
        "                printf(\"%4.0f \", b[i*n + j]);\n",
        "            }\n",
        "            printf(\"  \");\n",
        "            for (int j = 0; j < n; j++)\n",
        "            {\n",
        "                printf(\"%4.0f \", c[i*n + j]);\n",
        "            }\n",
        "            printf(\"\\n\");\n",
        "            \n",
        "        }\n",
        "    }\n",
        "\n",
        "    // cleanup and quit\n",
        "    cudaFree( a_d );\n",
        "    cudaFree( b_d );\n",
        "    cudaFree( c_d );\n",
        "    free( a );\n",
        "    free( b );\n",
        "    free( c );\n",
        "  \n",
        "    return 0;\n",
        "}\n"
      ],
      "execution_count": null,
      "outputs": [
        {
          "output_type": "stream",
          "name": "stdout",
          "text": [
            "   0    1    2    3    4    5    6    7    8    9      0  100  200  300  400  500  600  700  800  900      0  101  202  303  404  505  606  707  808  909 \n",
            "  10   11   12   13   14   15   16   17   18   19   1000 1100 1200 1300 1400 1500 1600 1700 1800 1900   1010 1111 1212 1313 1414 1515 1616 1717 1818 1919 \n",
            "  20   21   22   23   24   25   26   27   28   29   2000 2100 2200 2300 2400 2500 2600 2700 2800 2900   2020 2121 2222 2323 2424 2525 2626 2727 2828 2929 \n",
            "  30   31   32   33   34   35   36   37   38   39   3000 3100 3200 3300 3400 3500 3600 3700 3800 3900   3030 3131 3232 3333 3434 3535 3636 3737 3838 3939 \n",
            "  40   41   42   43   44   45   46   47   48   49   4000 4100 4200 4300 4400 4500 4600 4700 4800 4900   4040 4141 4242 4343 4444 4545 4646 4747 4848 4949 \n",
            "  50   51   52   53   54   55   56   57   58   59   5000 5100 5200 5300 5400 5500 5600 5700 5800 5900   5050 5151 5252 5353 5454 5555 5656 5757 5858 5959 \n",
            "  60   61   62   63   64   65   66   67   68   69   6000 6100 6200 6300 6400 6500 6600 6700 6800 6900   6060 6161 6262 6363 6464 6565 6666 6767 6868 6969 \n",
            "  70   71   72   73   74   75   76   77   78   79   7000 7100 7200 7300 7400 7500 7600 7700 7800 7900   7070 7171 7272 7373 7474 7575 7676 7777 7878 7979 \n",
            "  80   81   82   83   84   85   86   87   88   89   8000 8100 8200 8300 8400 8500 8600 8700 8800 8900   8080 8181 8282 8383 8484 8585 8686 8787 8888 8989 \n",
            "  90   91   92   93   94   95   96   97   98   99   9000 9100 9200 9300 9400 9500 9600 9700 9800 9900   9090 9191 9292 9393 9494 9595 9696 9797 9898 9999 \n",
            "\n"
          ]
        }
      ]
    },
    {
      "cell_type": "code",
      "metadata": {
        "id": "xNAC_d9X6HoS"
      },
      "source": [
        "! nvcc -o matrix_adder matrix_adder.cu"
      ],
      "execution_count": null,
      "outputs": []
    },
    {
      "cell_type": "code",
      "metadata": {
        "colab": {
          "base_uri": "https://localhost:8080/"
        },
        "id": "zFiE8dk47AN4",
        "outputId": "f93f4760-254c-4b12-ac45-08ed7cbca611"
      },
      "source": [
        "! ./matrix_adder 6 50"
      ],
      "execution_count": null,
      "outputs": [
        {
          "output_type": "stream",
          "name": "stdout",
          "text": [
            "   0    1    2    3    4    5      0  100  200  300  400  500      0  101  202  303  404  505 \n",
            "   6    7    8    9   10   11    600  700  800  900 1000 1100    606  707  808  909 1010 1111 \n",
            "  12   13   14   15   16   17   1200 1300 1400 1500 1600 1700   1212 1313 1414 1515 1616 1717 \n",
            "  18   19   20   21   22   23   1800 1900 2000 2100 2200 2300   1818 1919 2020 2121 2222 2323 \n",
            "  24   25   26   27   28   29   2400 2500 2600 2700 2800 2900   2424 2525 2626 2727 2828 2929 \n",
            "  30   31   32   33   34   35   3000 3100 3200 3300 3400 3500   3030 3131 3232 3333 3434 3535 \n",
            "  36   37   38   39   40   41   3600 3700 3800 3900 4000 4100   3636 3737 3838 3939 4040 4141 \n",
            "  42   43   44   45   46   47   4200 4300 4400 4500 4600 4700   4242 4343 4444 4545 4646 4747 \n",
            "  48   49   50   51   52   53   4800 4900 5000 5100 5200 5300   4848 4949 5050 5151 5252 5353 \n",
            "  54   55   56   57   58   59   5400 5500 5600 5700 5800 5900   5454 5555 5656 5757 5858 5959 \n",
            "  60   61   62   63   64   65   6000 6100 6200 6300 6400 6500   6060 6161 6262 6363 6464 6565 \n",
            "  66   67   68   69   70   71   6600 6700 6800 6900 7000 7100   6666 6767 6868 6969 7070 7171 \n",
            "  72   73   74   75   76   77   7200 7300 7400 7500 7600 7700   7272 7373 7474 7575 7676 7777 \n",
            "  78   79   80   81   82   83   7800 7900 8000 8100 8200 8300   7878 7979 8080 8181 8282 8383 \n",
            "  84   85   86   87   88   89   8400 8500 8600 8700 8800 8900   8484 8585 8686 8787 8888 8989 \n",
            "  90   91   92   93   94   95   9000 9100 9200 9300 9400 9500   9090 9191 9292 9393 9494 9595 \n",
            "  96   97   98   99  100  101   9600 9700 9800 9900 10000 10100   9696 9797 9898 9999 10100 10201 \n",
            " 102  103  104  105  106  107   10200 10300 10400 10500 10600 10700   10302 10403 10504 10605 10706 10807 \n",
            " 108  109  110  111  112  113   10800 10900 11000 11100 11200 11300   10908 11009 11110 11211 11312 11413 \n",
            " 114  115  116  117  118  119   11400 11500 11600 11700 11800 11900   11514 11615 11716 11817 11918 12019 \n",
            " 120  121  122  123  124  125   12000 12100 12200 12300 12400 12500   12120 12221 12322 12423 12524 12625 \n",
            " 126  127  128  129  130  131   12600 12700 12800 12900 13000 13100   12726 12827 12928 13029 13130 13231 \n",
            " 132  133  134  135  136  137   13200 13300 13400 13500 13600 13700   13332 13433 13534 13635 13736 13837 \n",
            " 138  139  140  141  142  143   13800 13900 14000 14100 14200 14300   13938 14039 14140 14241 14342 14443 \n",
            " 144  145  146  147  148  149   14400 14500 14600 14700 14800 14900   14544 14645 14746 14847 14948 15049 \n",
            " 150  151  152  153  154  155   15000 15100 15200 15300 15400 15500   15150 15251 15352 15453 15554 15655 \n",
            " 156  157  158  159  160  161   15600 15700 15800 15900 16000 16100   15756 15857 15958 16059 16160 16261 \n",
            " 162  163  164  165  166  167   16200 16300 16400 16500 16600 16700   16362 16463 16564 16665 16766 16867 \n",
            " 168  169  170  171  172  173   16800 16900 17000 17100 17200 17300   16968 17069 17170 17271 17372 17473 \n",
            " 174  175  176  177  178  179   17400 17500 17600 17700 17800 17900   17574 17675 17776 17877 17978 18079 \n",
            " 180  181  182  183  184  185   18000 18100 18200 18300 18400 18500   18180 18281 18382 18483 18584 18685 \n",
            " 186  187  188  189  190  191   18600 18700 18800 18900 19000 19100   18786 18887 18988 19089 19190 19291 \n",
            " 192  193  194  195  196  197   19200 19300 19400 19500 19600 19700   19392 19493 19594 19695 19796 19897 \n",
            " 198  199  200  201  202  203   19800 19900 20000 20100 20200 20300   19998 20099 20200 20301 20402 20503 \n",
            " 204  205  206  207  208  209   20400 20500 20600 20700 20800 20900   20604 20705 20806 20907 21008 21109 \n",
            " 210  211  212  213  214  215   21000 21100 21200 21300 21400 21500   21210 21311 21412 21513 21614 21715 \n",
            " 216  217  218  219  220  221   21600 21700 21800 21900 22000 22100   21816 21917 22018 22119 22220 22321 \n",
            " 222  223  224  225  226  227   22200 22300 22400 22500 22600 22700   22422 22523 22624 22725 22826 22927 \n",
            " 228  229  230  231  232  233   22800 22900 23000 23100 23200 23300   23028 23129 23230 23331 23432 23533 \n",
            " 234  235  236  237  238  239   23400 23500 23600 23700 23800 23900   23634 23735 23836 23937 24038 24139 \n",
            " 240  241  242  243  244  245   24000 24100 24200 24300 24400 24500   24240 24341 24442 24543 24644 24745 \n",
            " 246  247  248  249  250  251   24600 24700 24800 24900 25000 25100   24846 24947 25048 25149 25250 25351 \n",
            " 252  253  254  255  256  257   25200 25300 25400 25500 25600 25700   25452 25553 25654 25755 25856 25957 \n",
            " 258  259  260  261  262  263   25800 25900 26000 26100 26200 26300   26058 26159 26260 26361 26462 26563 \n",
            " 264  265  266  267  268  269   26400 26500 26600 26700 26800 26900   26664 26765 26866 26967 27068 27169 \n",
            " 270  271  272  273  274  275   27000 27100 27200 27300 27400 27500   27270 27371 27472 27573 27674 27775 \n",
            " 276  277  278  279  280  281   27600 27700 27800 27900 28000 28100   27876 27977 28078 28179 28280 28381 \n",
            " 282  283  284  285  286  287   28200 28300 28400 28500 28600 28700   28482 28583 28684 28785 28886 28987 \n",
            " 288  289  290  291  292  293   28800 28900 29000 29100 29200 29300   29088 29189 29290 29391 29492 29593 \n",
            " 294  295  296  297  298  299   29400 29500 29600 29700 29800 29900   29694 29795 29896 29997 30098 30199 \n"
          ]
        }
      ]
    },
    {
      "cell_type": "code",
      "metadata": {
        "colab": {
          "base_uri": "https://localhost:8080/"
        },
        "id": "TcRmONORDM9m",
        "outputId": "e95a3bdd-4ddc-4791-db5c-1b53690f5752"
      },
      "source": [
        "! nvprof ./matrix_adder 10000 10000"
      ],
      "execution_count": null,
      "outputs": [
        {
          "output_type": "stream",
          "name": "stdout",
          "text": [
            "==20139== NVPROF is profiling process 20139, command: ./matrix_adder 10000 10000\n",
            "==20139== Profiling application: ./matrix_adder 10000 10000\n",
            "==20139== Profiling result:\n",
            "            Type  Time(%)      Time     Calls       Avg       Min       Max  Name\n",
            " GPU activities:   68.95%  264.26ms         1  264.26ms  264.26ms  264.26ms  [CUDA memcpy DtoH]\n",
            "                   28.29%  108.42ms         2  54.209ms  54.032ms  54.385ms  [CUDA memcpy HtoD]\n",
            "                    2.76%  10.591ms         1  10.591ms  10.591ms  10.591ms  add_matrices(float*, float*, float*, int, int)\n",
            "      API calls:   56.54%  384.62ms         3  128.21ms  54.103ms  275.99ms  cudaMemcpy\n",
            "                   28.28%  192.36ms         3  64.120ms  850.27us  190.56ms  cudaMalloc\n",
            "                   15.03%  102.21ms         3  34.071ms  593.89us  50.839ms  cudaFree\n",
            "                    0.07%  497.81us         1  497.81us  497.81us  497.81us  cuDeviceTotalMem\n",
            "                    0.05%  317.39us         1  317.39us  317.39us  317.39us  cudaLaunchKernel\n",
            "                    0.02%  168.56us        96  1.7550us     138ns  69.312us  cuDeviceGetAttribute\n",
            "                    0.00%  26.558us         1  26.558us  26.558us  26.558us  cuDeviceGetName\n",
            "                    0.00%  5.4290us         1  5.4290us  5.4290us  5.4290us  cuDeviceGetPCIBusId\n",
            "                    0.00%  2.0610us         3     687ns     173ns     986ns  cuDeviceGetCount\n",
            "                    0.00%  1.8670us         2     933ns     442ns  1.4250us  cuDeviceGet\n"
          ]
        }
      ]
    },
    {
      "cell_type": "code",
      "metadata": {
        "colab": {
          "base_uri": "https://localhost:8080/"
        },
        "id": "0wHmwJGcEL--",
        "outputId": "37836d70-2dd0-4d9b-ee7b-646423330ddf"
      },
      "source": [
        "! nvprof ./matrix_adder 1000000 1000000"
      ],
      "execution_count": null,
      "outputs": [
        {
          "output_type": "stream",
          "name": "stdout",
          "text": [
            "tcmalloc: large alloc 18446744070800031744 bytes == (nil) @  0x7fa62ebe11e7 0x5564548470d0 0x7fa62dc12bf7 0x556454846eca\n",
            "tcmalloc: large alloc 18446744070800031744 bytes == (nil) @  0x7fa62ebe11e7 0x5564548470e0 0x7fa62dc12bf7 0x556454846eca\n",
            "tcmalloc: large alloc 18446744070800031744 bytes == (nil) @  0x7fa62ebe11e7 0x5564548470f0 0x7fa62dc12bf7 0x556454846eca\n",
            "==20154== NVPROF is profiling process 20154, command: ./matrix_adder 1000000 1000000\n",
            "==20154== Profiling application: ./matrix_adder 1000000 1000000\n",
            "==20154== Warning: 1 records have invalid timestamps due to insufficient device buffer space. You can configure the buffer space using the option --device-buffer-size.\n",
            "==20154== Profiling result:\n",
            "No kernels were profiled.\n",
            "            Type  Time(%)      Time     Calls       Avg       Min       Max  Name\n",
            "      API calls:   99.55%  196.06ms         3  65.352ms  1.0660us  196.05ms  cudaMalloc\n",
            "                    0.25%  492.23us         1  492.23us  492.23us  492.23us  cuDeviceTotalMem\n",
            "                    0.09%  180.38us        96  1.8780us     138ns  83.544us  cuDeviceGetAttribute\n",
            "                    0.08%  156.87us         1  156.87us  156.87us  156.87us  cudaLaunchKernel\n",
            "                    0.02%  31.563us         1  31.563us  31.563us  31.563us  cuDeviceGetName\n",
            "                    0.00%  6.7530us         1  6.7530us  6.7530us  6.7530us  cuDeviceGetPCIBusId\n",
            "                    0.00%  4.9340us         3  1.6440us     409ns  2.3990us  cudaMemcpy\n",
            "                    0.00%  1.8620us         3     620ns     159ns     947ns  cuDeviceGetCount\n",
            "                    0.00%  1.8120us         3     604ns     303ns  1.1880us  cudaFree\n",
            "                    0.00%  1.4690us         2     734ns     212ns  1.2570us  cuDeviceGet\n"
          ]
        }
      ]
    },
    {
      "cell_type": "code",
      "metadata": {
        "colab": {
          "base_uri": "https://localhost:8080/"
        },
        "id": "yHICZsr0EfnN",
        "outputId": "7d868f90-1d80-4939-962c-0779dc2d2b17"
      },
      "source": [
        "! nvprof ./matrix_adder 100000 500"
      ],
      "execution_count": null,
      "outputs": [
        {
          "output_type": "stream",
          "name": "stdout",
          "text": [
            "==20173== NVPROF is profiling process 20173, command: ./matrix_adder 100000 500\n",
            "==20173== Profiling application: ./matrix_adder 100000 500\n",
            "==20173== Profiling result:\n",
            "            Type  Time(%)      Time     Calls       Avg       Min       Max  Name\n",
            " GPU activities:   65.64%  120.94ms         1  120.94ms  120.94ms  120.94ms  [CUDA memcpy DtoH]\n",
            "                   31.38%  57.812ms         2  28.906ms  28.301ms  29.511ms  [CUDA memcpy HtoD]\n",
            "                    2.98%  5.4819ms         1  5.4819ms  5.4819ms  5.4819ms  add_matrices(float*, float*, float*, int, int)\n",
            "      API calls:   45.86%  201.51ms         3  67.169ms  475.79us  200.54ms  cudaMalloc\n",
            "                   42.22%  185.52ms         3  61.841ms  28.415ms  127.42ms  cudaMemcpy\n",
            "                   11.69%  51.387ms         3  17.129ms  431.37us  25.493ms  cudaFree\n",
            "                    0.10%  453.08us         1  453.08us  453.08us  453.08us  cuDeviceTotalMem\n",
            "                    0.07%  301.34us         1  301.34us  301.34us  301.34us  cudaLaunchKernel\n",
            "                    0.05%  228.90us        96  2.3840us     126ns  108.68us  cuDeviceGetAttribute\n",
            "                    0.01%  31.006us         1  31.006us  31.006us  31.006us  cuDeviceGetName\n",
            "                    0.00%  6.6990us         1  6.6990us  6.6990us  6.6990us  cuDeviceGetPCIBusId\n",
            "                    0.00%  2.3850us         3     795ns     156ns  1.1260us  cuDeviceGetCount\n",
            "                    0.00%  1.7120us         2     856ns     451ns  1.2610us  cuDeviceGet\n"
          ]
        }
      ]
    }
  ]
}